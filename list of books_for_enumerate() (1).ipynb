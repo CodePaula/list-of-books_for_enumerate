{
 "cells": [
  {
   "cell_type": "code",
   "execution_count": 2,
   "id": "b527d57b",
   "metadata": {},
   "outputs": [
    {
     "name": "stdout",
     "output_type": "stream",
     "text": [
      "0 is the book Coraline\n",
      "1 is the book Frankenstein\n",
      "2 is the book Journey to the Centre of the Earth\n",
      "3 is the book Paradise lost\n"
     ]
    }
   ],
   "source": [
    "# lista de livros \n",
    "livros = ['Coraline', 'Frankenstein', 'Viagem ao centro da Terra', 'Paraíso perdido']\n",
    "\n",
    "# a estrutura de repetição \"for\" percorre cada item da lista, e a função enumerate() retorna um objeto enumerado\n",
    "for i, livro in enumerate(livros):\n",
    "    # o resultado mostra cada livro associado a um número, usando o método format() para preencher as chaves\n",
    "    # obs.: no Python, a contagem começa pelo índice zero\n",
    "    print(\"{} é o livro {}.\".format(i, livro))\n",
    "\n",
    "\n",
    "# list of books\n",
    "books = ['Coraline', 'Frankenstein', 'Journey to the Centre of the Earth', 'Paradise lost']\n",
    "\n",
    "# the repetition structure \"for\" goes through each item of the list, and the enumerate() function returns an enumerated object\n",
    "for i, book in enumerate(books):\n",
    "    # the outcome shows each book associated to a number, using the format() method to fill the braces\n",
    "    # obs.: in Python, the count starts from index zero\n",
    "    print(\"{} is the book {}.\".format(i, book))"
   ]
  },
  {
   "cell_type": "code",
   "execution_count": null,
   "id": "c4e1f69b",
   "metadata": {},
   "outputs": [],
   "source": []
  },
  {
   "cell_type": "code",
   "execution_count": null,
   "id": "f3ccd0b4",
   "metadata": {},
   "outputs": [],
   "source": []
  }
 ],
 "metadata": {
  "kernelspec": {
   "display_name": "Python 3 (ipykernel)",
   "language": "python",
   "name": "python3"
  },
  "language_info": {
   "codemirror_mode": {
    "name": "ipython",
    "version": 3
   },
   "file_extension": ".py",
   "mimetype": "text/x-python",
   "name": "python",
   "nbconvert_exporter": "python",
   "pygments_lexer": "ipython3",
   "version": "3.9.13"
  }
 },
 "nbformat": 4,
 "nbformat_minor": 5
}
